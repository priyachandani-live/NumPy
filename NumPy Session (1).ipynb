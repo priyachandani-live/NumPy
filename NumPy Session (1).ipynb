{
 "cells": [
  {
   "cell_type": "code",
   "execution_count": 1,
   "id": "1e0b209a",
   "metadata": {},
   "outputs": [
    {
     "name": "stdout",
     "output_type": "stream",
     "text": [
      "Requirement already satisfied: numpy in c:\\users\\priya\\anaconda3\\lib\\site-packages (1.21.5)\n"
     ]
    }
   ],
   "source": [
    "!pip install numpy"
   ]
  },
  {
   "cell_type": "code",
   "execution_count": 1,
   "id": "8b898484",
   "metadata": {},
   "outputs": [],
   "source": [
    "import numpy as np"
   ]
  },
  {
   "cell_type": "markdown",
   "id": "96a41358",
   "metadata": {},
   "source": [
    "### Assignment 1\n",
    "* Create a 3D NumPy array\n",
    "\n",
    "* Create 2D NumPy array and add 10 to it"
   ]
  },
  {
   "cell_type": "code",
   "execution_count": 10,
   "id": "7822b4b9",
   "metadata": {},
   "outputs": [
    {
     "data": {
      "text/plain": [
       "1"
      ]
     },
     "execution_count": 10,
     "metadata": {},
     "output_type": "execute_result"
    }
   ],
   "source": [
    "#3D NumPy Array\n",
    "arr_3d = np.array([[[0,4,2],\n",
    "         [32,43,21],\n",
    "         [79,67,43]]])\n",
    "dimension = arr_3d.shape\n",
    "dimension[0]\n",
    "# dimension[1]\n",
    "# dimension[2]"
   ]
  },
  {
   "cell_type": "code",
   "execution_count": 10,
   "id": "17f05f70",
   "metadata": {},
   "outputs": [
    {
     "data": {
      "text/plain": [
       "array([[12, 14],\n",
       "       [15, 16]])"
      ]
     },
     "execution_count": 10,
     "metadata": {},
     "output_type": "execute_result"
    }
   ],
   "source": [
    "#2D Array and add 10 to it\n",
    "arr_2d = np.array([[2,4],\n",
    "                   [5,6]])\n",
    "arr_2d + 10"
   ]
  },
  {
   "cell_type": "markdown",
   "id": "b39823b6",
   "metadata": {},
   "source": [
    "### Assigment 2"
   ]
  },
  {
   "cell_type": "code",
   "execution_count": 2,
   "id": "a2722f59",
   "metadata": {},
   "outputs": [
    {
     "data": {
      "text/plain": [
       "array([[ 2,  6],\n",
       "       [ 9, 16]])"
      ]
     },
     "execution_count": 2,
     "metadata": {},
     "output_type": "execute_result"
    }
   ],
   "source": [
    "arr_1 = np.array([[1,2],\n",
    "                  [3,4]])\n",
    "arr_2 = np.array([[2,3],\n",
    "                  [3,4]])\n",
    "arr_1 * arr_2"
   ]
  },
  {
   "cell_type": "code",
   "execution_count": null,
   "id": "978e2144",
   "metadata": {},
   "outputs": [],
   "source": []
  }
 ],
 "metadata": {
  "kernelspec": {
   "display_name": "Python 3 (ipykernel)",
   "language": "python",
   "name": "python3"
  },
  "language_info": {
   "codemirror_mode": {
    "name": "ipython",
    "version": 3
   },
   "file_extension": ".py",
   "mimetype": "text/x-python",
   "name": "python",
   "nbconvert_exporter": "python",
   "pygments_lexer": "ipython3",
   "version": "3.9.12"
  }
 },
 "nbformat": 4,
 "nbformat_minor": 5
}
